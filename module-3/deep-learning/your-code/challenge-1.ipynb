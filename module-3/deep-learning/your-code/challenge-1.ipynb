{
 "cells": [
  {
   "cell_type": "markdown",
   "metadata": {},
   "source": [
    "# Challenge 1 - Tic Tac Toe\n",
    "\n",
    "In this lab you will perform deep learning analysis on a dataset of playing [Tic Tac Toe](https://en.wikipedia.org/wiki/Tic-tac-toe).\n",
    "\n",
    "There are 9 grids in Tic Tac Toe that are coded as the following picture shows:\n",
    "\n",
    "![Tic Tac Toe Grids](tttboard.jpg)\n",
    "\n",
    "In the first 9 columns of the dataset you can find which marks (`x` or `o`) exist in the grids. If there is no mark in a certain grid, it is labeled as `b`. The last column is `class` which tells you whether Player X (who always moves first in Tic Tac Toe) wins in this configuration. Note that when `class` has the value `False`, it means either Player O wins the game or it ends up as a draw."
   ]
  },
  {
   "cell_type": "markdown",
   "metadata": {},
   "source": [
    "Follow the steps suggested below to conduct a neural network analysis using Tensorflow and Keras. You will build a deep learning model to predict whether Player X wins the game or not.\n",
    "\n",
    "## Step 1: Data Engineering\n",
    "\n",
    "This dataset is almost in the ready-to-use state so you do not need to worry about missing values and so on. Still, some simple data engineering is needed.\n",
    "\n",
    "1. Read `tic-tac-toe.csv` into a dataframe.\n",
    "1. Inspect the dataset. Determine if the dataset is reliable by eyeballing the data.\n",
    "1. Convert the categorical values to numeric in all columns.\n",
    "1. Separate the inputs and output.\n",
    "1. Normalize the input data."
   ]
  },
  {
   "cell_type": "code",
   "execution_count": 1,
   "metadata": {},
   "outputs": [],
   "source": [
    "# your code here\n",
    "import pandas as pd\n",
    "from sklearn.preprocessing import LabelEncoder, StandardScaler\n",
    "from sklearn.model_selection import train_test_split\n",
    "import tensorflow as tf\n",
    "import numpy as np\n",
    "import matplotlib.pyplot as plt"
   ]
  },
  {
   "cell_type": "code",
   "execution_count": 2,
   "metadata": {},
   "outputs": [
    {
     "data": {
      "text/html": [
       "<div>\n",
       "<style scoped>\n",
       "    .dataframe tbody tr th:only-of-type {\n",
       "        vertical-align: middle;\n",
       "    }\n",
       "\n",
       "    .dataframe tbody tr th {\n",
       "        vertical-align: top;\n",
       "    }\n",
       "\n",
       "    .dataframe thead th {\n",
       "        text-align: right;\n",
       "    }\n",
       "</style>\n",
       "<table border=\"1\" class=\"dataframe\">\n",
       "  <thead>\n",
       "    <tr style=\"text-align: right;\">\n",
       "      <th></th>\n",
       "      <th>TL</th>\n",
       "      <th>TM</th>\n",
       "      <th>TR</th>\n",
       "      <th>ML</th>\n",
       "      <th>MM</th>\n",
       "      <th>MR</th>\n",
       "      <th>BL</th>\n",
       "      <th>BM</th>\n",
       "      <th>BR</th>\n",
       "      <th>class</th>\n",
       "    </tr>\n",
       "  </thead>\n",
       "  <tbody>\n",
       "    <tr>\n",
       "      <th>0</th>\n",
       "      <td>x</td>\n",
       "      <td>x</td>\n",
       "      <td>x</td>\n",
       "      <td>x</td>\n",
       "      <td>o</td>\n",
       "      <td>o</td>\n",
       "      <td>x</td>\n",
       "      <td>o</td>\n",
       "      <td>o</td>\n",
       "      <td>True</td>\n",
       "    </tr>\n",
       "    <tr>\n",
       "      <th>1</th>\n",
       "      <td>x</td>\n",
       "      <td>x</td>\n",
       "      <td>x</td>\n",
       "      <td>x</td>\n",
       "      <td>o</td>\n",
       "      <td>o</td>\n",
       "      <td>o</td>\n",
       "      <td>x</td>\n",
       "      <td>o</td>\n",
       "      <td>True</td>\n",
       "    </tr>\n",
       "    <tr>\n",
       "      <th>2</th>\n",
       "      <td>x</td>\n",
       "      <td>x</td>\n",
       "      <td>x</td>\n",
       "      <td>x</td>\n",
       "      <td>o</td>\n",
       "      <td>o</td>\n",
       "      <td>o</td>\n",
       "      <td>o</td>\n",
       "      <td>x</td>\n",
       "      <td>True</td>\n",
       "    </tr>\n",
       "    <tr>\n",
       "      <th>3</th>\n",
       "      <td>x</td>\n",
       "      <td>x</td>\n",
       "      <td>x</td>\n",
       "      <td>x</td>\n",
       "      <td>o</td>\n",
       "      <td>o</td>\n",
       "      <td>o</td>\n",
       "      <td>b</td>\n",
       "      <td>b</td>\n",
       "      <td>True</td>\n",
       "    </tr>\n",
       "    <tr>\n",
       "      <th>4</th>\n",
       "      <td>x</td>\n",
       "      <td>x</td>\n",
       "      <td>x</td>\n",
       "      <td>x</td>\n",
       "      <td>o</td>\n",
       "      <td>o</td>\n",
       "      <td>b</td>\n",
       "      <td>o</td>\n",
       "      <td>b</td>\n",
       "      <td>True</td>\n",
       "    </tr>\n",
       "  </tbody>\n",
       "</table>\n",
       "</div>"
      ],
      "text/plain": [
       "  TL TM TR ML MM MR BL BM BR  class\n",
       "0  x  x  x  x  o  o  x  o  o   True\n",
       "1  x  x  x  x  o  o  o  x  o   True\n",
       "2  x  x  x  x  o  o  o  o  x   True\n",
       "3  x  x  x  x  o  o  o  b  b   True\n",
       "4  x  x  x  x  o  o  b  o  b   True"
      ]
     },
     "execution_count": 2,
     "metadata": {},
     "output_type": "execute_result"
    }
   ],
   "source": [
    "df = pd.read_csv('tic-tac-toe.csv')\n",
    "df.head()"
   ]
  },
  {
   "cell_type": "code",
   "execution_count": 3,
   "metadata": {},
   "outputs": [
    {
     "data": {
      "text/html": [
       "<div>\n",
       "<style scoped>\n",
       "    .dataframe tbody tr th:only-of-type {\n",
       "        vertical-align: middle;\n",
       "    }\n",
       "\n",
       "    .dataframe tbody tr th {\n",
       "        vertical-align: top;\n",
       "    }\n",
       "\n",
       "    .dataframe thead th {\n",
       "        text-align: right;\n",
       "    }\n",
       "</style>\n",
       "<table border=\"1\" class=\"dataframe\">\n",
       "  <thead>\n",
       "    <tr style=\"text-align: right;\">\n",
       "      <th></th>\n",
       "      <th>TL</th>\n",
       "      <th>TM</th>\n",
       "      <th>TR</th>\n",
       "      <th>ML</th>\n",
       "      <th>MM</th>\n",
       "      <th>MR</th>\n",
       "      <th>BL</th>\n",
       "      <th>BM</th>\n",
       "      <th>BR</th>\n",
       "      <th>class</th>\n",
       "    </tr>\n",
       "  </thead>\n",
       "  <tbody>\n",
       "    <tr>\n",
       "      <th>0</th>\n",
       "      <td>2</td>\n",
       "      <td>2</td>\n",
       "      <td>2</td>\n",
       "      <td>2</td>\n",
       "      <td>1</td>\n",
       "      <td>1</td>\n",
       "      <td>2</td>\n",
       "      <td>1</td>\n",
       "      <td>1</td>\n",
       "      <td>1</td>\n",
       "    </tr>\n",
       "    <tr>\n",
       "      <th>1</th>\n",
       "      <td>2</td>\n",
       "      <td>2</td>\n",
       "      <td>2</td>\n",
       "      <td>2</td>\n",
       "      <td>1</td>\n",
       "      <td>1</td>\n",
       "      <td>1</td>\n",
       "      <td>2</td>\n",
       "      <td>1</td>\n",
       "      <td>1</td>\n",
       "    </tr>\n",
       "    <tr>\n",
       "      <th>2</th>\n",
       "      <td>2</td>\n",
       "      <td>2</td>\n",
       "      <td>2</td>\n",
       "      <td>2</td>\n",
       "      <td>1</td>\n",
       "      <td>1</td>\n",
       "      <td>1</td>\n",
       "      <td>1</td>\n",
       "      <td>2</td>\n",
       "      <td>1</td>\n",
       "    </tr>\n",
       "    <tr>\n",
       "      <th>3</th>\n",
       "      <td>2</td>\n",
       "      <td>2</td>\n",
       "      <td>2</td>\n",
       "      <td>2</td>\n",
       "      <td>1</td>\n",
       "      <td>1</td>\n",
       "      <td>1</td>\n",
       "      <td>0</td>\n",
       "      <td>0</td>\n",
       "      <td>1</td>\n",
       "    </tr>\n",
       "    <tr>\n",
       "      <th>4</th>\n",
       "      <td>2</td>\n",
       "      <td>2</td>\n",
       "      <td>2</td>\n",
       "      <td>2</td>\n",
       "      <td>1</td>\n",
       "      <td>1</td>\n",
       "      <td>0</td>\n",
       "      <td>1</td>\n",
       "      <td>0</td>\n",
       "      <td>1</td>\n",
       "    </tr>\n",
       "  </tbody>\n",
       "</table>\n",
       "</div>"
      ],
      "text/plain": [
       "   TL  TM  TR  ML  MM  MR  BL  BM  BR  class\n",
       "0   2   2   2   2   1   1   2   1   1      1\n",
       "1   2   2   2   2   1   1   1   2   1      1\n",
       "2   2   2   2   2   1   1   1   1   2      1\n",
       "3   2   2   2   2   1   1   1   0   0      1\n",
       "4   2   2   2   2   1   1   0   1   0      1"
      ]
     },
     "execution_count": 3,
     "metadata": {},
     "output_type": "execute_result"
    }
   ],
   "source": [
    "encoder = LabelEncoder()\n",
    "df_encoded = df.apply(encoder.fit_transform)\n",
    "df_encoded.head()"
   ]
  },
  {
   "cell_type": "code",
   "execution_count": 4,
   "metadata": {},
   "outputs": [
    {
     "data": {
      "text/plain": [
       "Index(['TL', 'TM', 'TR', 'ML', 'MM', 'MR', 'BL', 'BM', 'BR', 'class'], dtype='object')"
      ]
     },
     "execution_count": 4,
     "metadata": {},
     "output_type": "execute_result"
    }
   ],
   "source": [
    "df_encoded.columns"
   ]
  },
  {
   "cell_type": "code",
   "execution_count": 5,
   "metadata": {},
   "outputs": [],
   "source": [
    "df_inp = df_encoded[['TL', 'TM', 'TR', 'ML', 'MM', 'MR', 'BL', 'BM', 'BR']]\n",
    "df_out = df_encoded['class']"
   ]
  },
  {
   "cell_type": "code",
   "execution_count": 6,
   "metadata": {},
   "outputs": [
    {
     "data": {
      "text/html": [
       "<div>\n",
       "<style scoped>\n",
       "    .dataframe tbody tr th:only-of-type {\n",
       "        vertical-align: middle;\n",
       "    }\n",
       "\n",
       "    .dataframe tbody tr th {\n",
       "        vertical-align: top;\n",
       "    }\n",
       "\n",
       "    .dataframe thead th {\n",
       "        text-align: right;\n",
       "    }\n",
       "</style>\n",
       "<table border=\"1\" class=\"dataframe\">\n",
       "  <thead>\n",
       "    <tr style=\"text-align: right;\">\n",
       "      <th></th>\n",
       "      <th>TL</th>\n",
       "      <th>TM</th>\n",
       "      <th>TR</th>\n",
       "      <th>ML</th>\n",
       "      <th>MM</th>\n",
       "      <th>MR</th>\n",
       "      <th>BL</th>\n",
       "      <th>BM</th>\n",
       "      <th>BR</th>\n",
       "    </tr>\n",
       "  </thead>\n",
       "  <tbody>\n",
       "    <tr>\n",
       "      <th>0</th>\n",
       "      <td>1.003223</td>\n",
       "      <td>1.084953</td>\n",
       "      <td>1.003223</td>\n",
       "      <td>1.084953</td>\n",
       "      <td>-0.420077</td>\n",
       "      <td>-0.167318</td>\n",
       "      <td>1.003223</td>\n",
       "      <td>-0.167318</td>\n",
       "      <td>-0.286827</td>\n",
       "    </tr>\n",
       "    <tr>\n",
       "      <th>1</th>\n",
       "      <td>1.003223</td>\n",
       "      <td>1.084953</td>\n",
       "      <td>1.003223</td>\n",
       "      <td>1.084953</td>\n",
       "      <td>-0.420077</td>\n",
       "      <td>-0.167318</td>\n",
       "      <td>-0.286827</td>\n",
       "      <td>1.084953</td>\n",
       "      <td>-0.286827</td>\n",
       "    </tr>\n",
       "    <tr>\n",
       "      <th>2</th>\n",
       "      <td>1.003223</td>\n",
       "      <td>1.084953</td>\n",
       "      <td>1.003223</td>\n",
       "      <td>1.084953</td>\n",
       "      <td>-0.420077</td>\n",
       "      <td>-0.167318</td>\n",
       "      <td>-0.286827</td>\n",
       "      <td>-0.167318</td>\n",
       "      <td>1.003223</td>\n",
       "    </tr>\n",
       "    <tr>\n",
       "      <th>3</th>\n",
       "      <td>1.003223</td>\n",
       "      <td>1.084953</td>\n",
       "      <td>1.003223</td>\n",
       "      <td>1.084953</td>\n",
       "      <td>-0.420077</td>\n",
       "      <td>-0.167318</td>\n",
       "      <td>-0.286827</td>\n",
       "      <td>-1.419590</td>\n",
       "      <td>-1.576877</td>\n",
       "    </tr>\n",
       "    <tr>\n",
       "      <th>4</th>\n",
       "      <td>1.003223</td>\n",
       "      <td>1.084953</td>\n",
       "      <td>1.003223</td>\n",
       "      <td>1.084953</td>\n",
       "      <td>-0.420077</td>\n",
       "      <td>-0.167318</td>\n",
       "      <td>-1.576877</td>\n",
       "      <td>-0.167318</td>\n",
       "      <td>-1.576877</td>\n",
       "    </tr>\n",
       "  </tbody>\n",
       "</table>\n",
       "</div>"
      ],
      "text/plain": [
       "         TL        TM        TR        ML        MM        MR        BL  \\\n",
       "0  1.003223  1.084953  1.003223  1.084953 -0.420077 -0.167318  1.003223   \n",
       "1  1.003223  1.084953  1.003223  1.084953 -0.420077 -0.167318 -0.286827   \n",
       "2  1.003223  1.084953  1.003223  1.084953 -0.420077 -0.167318 -0.286827   \n",
       "3  1.003223  1.084953  1.003223  1.084953 -0.420077 -0.167318 -0.286827   \n",
       "4  1.003223  1.084953  1.003223  1.084953 -0.420077 -0.167318 -1.576877   \n",
       "\n",
       "         BM        BR  \n",
       "0 -0.167318 -0.286827  \n",
       "1  1.084953 -0.286827  \n",
       "2 -0.167318  1.003223  \n",
       "3 -1.419590 -1.576877  \n",
       "4 -0.167318 -1.576877  "
      ]
     },
     "execution_count": 6,
     "metadata": {},
     "output_type": "execute_result"
    }
   ],
   "source": [
    "scaler = StandardScaler()\n",
    "df_inp_norm = pd.DataFrame(scaler.fit_transform(df_inp), columns=df_inp.columns)\n",
    "df_inp_norm.head()"
   ]
  },
  {
   "cell_type": "markdown",
   "metadata": {},
   "source": [
    "## Step 2: Build Neural Network\n",
    "\n",
    "To build the neural network, you can refer to your own codes you wrote while following the [Deep Learning with Python, TensorFlow, and Keras tutorial](https://www.youtube.com/watch?v=wQ8BIBpya2k) in the lesson. It's pretty similar to what you will be doing in this lab.\n",
    "\n",
    "1. Split the training and test data.\n",
    "1. Create a `Sequential` model.\n",
    "1. Add several layers to your model. Make sure you use ReLU as the activation function for the middle layers. Use Softmax for the output layer because each output has a single lable and all the label probabilities add up to 1.\n",
    "1. Compile the model using `adam` as the optimizer and `sparse_categorical_crossentropy` as the loss function. For metrics, use `accuracy` for now.\n",
    "1. Fit the training data.\n",
    "1. Evaluate your neural network model with the test data.\n",
    "1. Save your model as `tic-tac-toe.model`."
   ]
  },
  {
   "cell_type": "code",
   "execution_count": 7,
   "metadata": {},
   "outputs": [],
   "source": [
    "df_inp_train, df_inp_test, df_out_train, df_out_test = train_test_split(df_inp_norm, df_out)"
   ]
  },
  {
   "cell_type": "code",
   "execution_count": 8,
   "metadata": {},
   "outputs": [
    {
     "name": "stdout",
     "output_type": "stream",
     "text": [
      "(718, 9)\n",
      "(240, 9)\n",
      "(718,)\n",
      "(240,)\n"
     ]
    }
   ],
   "source": [
    "print(df_inp_train.shape)\n",
    "print(df_inp_test.shape)\n",
    "print(df_out_train.shape)\n",
    "print(df_out_test.shape)"
   ]
  },
  {
   "cell_type": "code",
   "execution_count": 9,
   "metadata": {},
   "outputs": [],
   "source": [
    "model = tf.keras.models.Sequential([\n",
    "    tf.keras.layers.Flatten(),\n",
    "    tf.keras.layers.Dense(128, activation='relu'),\n",
    "    tf.keras.layers.Dense(128, activation='relu'),\n",
    "    tf.keras.layers.Dense(2, activation='softmax')\n",
    "])"
   ]
  },
  {
   "cell_type": "code",
   "execution_count": 10,
   "metadata": {},
   "outputs": [],
   "source": [
    "model.compile(optimizer='adam',\n",
    "              loss=tf.keras.losses.SparseCategoricalCrossentropy(from_logits=True),\n",
    "              metrics=['accuracy'])"
   ]
  },
  {
   "cell_type": "code",
   "execution_count": 11,
   "metadata": {},
   "outputs": [
    {
     "name": "stdout",
     "output_type": "stream",
     "text": [
      "Epoch 1/20\n",
      "WARNING:tensorflow:Layer flatten is casting an input tensor from dtype float64 to the layer's dtype of float32, which is new behavior in TensorFlow 2.  The layer has dtype float32 because it's dtype defaults to floatx.\n",
      "\n",
      "If you intended to run this layer in float32, you can safely ignore this warning. If in doubt, this warning is likely only an issue if you are porting a TensorFlow 1.X model to TensorFlow 2.\n",
      "\n",
      "To change all layers to have dtype float64 by default, call `tf.keras.backend.set_floatx('float64')`. To change just this layer, pass dtype='float64' to the layer constructor. If you are the author of this layer, you can disable autocasting by passing autocast=False to the base Layer constructor.\n",
      "\n",
      "12/12 [==============================] - 0s 15ms/step - loss: 0.6576 - accuracy: 0.6295 - val_loss: 0.6347 - val_accuracy: 0.6417\n",
      "Epoch 2/20\n",
      "12/12 [==============================] - 0s 5ms/step - loss: 0.6132 - accuracy: 0.6643 - val_loss: 0.6224 - val_accuracy: 0.6625\n",
      "Epoch 3/20\n",
      "12/12 [==============================] - 0s 5ms/step - loss: 0.5926 - accuracy: 0.7006 - val_loss: 0.6151 - val_accuracy: 0.7083\n",
      "Epoch 4/20\n",
      "12/12 [==============================] - 0s 5ms/step - loss: 0.5777 - accuracy: 0.7242 - val_loss: 0.6071 - val_accuracy: 0.7208\n",
      "Epoch 5/20\n",
      "12/12 [==============================] - 0s 5ms/step - loss: 0.5641 - accuracy: 0.7382 - val_loss: 0.5965 - val_accuracy: 0.7333\n",
      "Epoch 6/20\n",
      "12/12 [==============================] - 0s 5ms/step - loss: 0.5499 - accuracy: 0.7660 - val_loss: 0.5886 - val_accuracy: 0.7417\n",
      "Epoch 7/20\n",
      "12/12 [==============================] - 0s 5ms/step - loss: 0.5357 - accuracy: 0.7883 - val_loss: 0.5785 - val_accuracy: 0.7500\n",
      "Epoch 8/20\n",
      "12/12 [==============================] - 0s 5ms/step - loss: 0.5222 - accuracy: 0.8078 - val_loss: 0.5720 - val_accuracy: 0.7458\n",
      "Epoch 9/20\n",
      "12/12 [==============================] - 0s 6ms/step - loss: 0.5082 - accuracy: 0.8357 - val_loss: 0.5573 - val_accuracy: 0.7583\n",
      "Epoch 10/20\n",
      "12/12 [==============================] - 0s 10ms/step - loss: 0.4972 - accuracy: 0.8329 - val_loss: 0.5489 - val_accuracy: 0.7625\n",
      "Epoch 11/20\n",
      "12/12 [==============================] - 0s 5ms/step - loss: 0.4841 - accuracy: 0.8552 - val_loss: 0.5420 - val_accuracy: 0.7833\n",
      "Epoch 12/20\n",
      "12/12 [==============================] - 0s 5ms/step - loss: 0.4739 - accuracy: 0.8677 - val_loss: 0.5340 - val_accuracy: 0.7750\n",
      "Epoch 13/20\n",
      "12/12 [==============================] - 0s 5ms/step - loss: 0.4661 - accuracy: 0.8649 - val_loss: 0.5311 - val_accuracy: 0.7833\n",
      "Epoch 14/20\n",
      "12/12 [==============================] - 0s 5ms/step - loss: 0.4572 - accuracy: 0.8816 - val_loss: 0.5252 - val_accuracy: 0.7833\n",
      "Epoch 15/20\n",
      "12/12 [==============================] - 0s 5ms/step - loss: 0.4497 - accuracy: 0.8816 - val_loss: 0.5259 - val_accuracy: 0.7708\n",
      "Epoch 16/20\n",
      "12/12 [==============================] - 0s 6ms/step - loss: 0.4467 - accuracy: 0.8942 - val_loss: 0.5140 - val_accuracy: 0.7958\n",
      "Epoch 17/20\n",
      "12/12 [==============================] - 0s 5ms/step - loss: 0.4378 - accuracy: 0.9039 - val_loss: 0.5113 - val_accuracy: 0.7875\n",
      "Epoch 18/20\n",
      "12/12 [==============================] - 0s 5ms/step - loss: 0.4326 - accuracy: 0.9011 - val_loss: 0.5071 - val_accuracy: 0.7875\n",
      "Epoch 19/20\n",
      "12/12 [==============================] - 0s 6ms/step - loss: 0.4256 - accuracy: 0.9192 - val_loss: 0.5022 - val_accuracy: 0.8000\n",
      "Epoch 20/20\n",
      "12/12 [==============================] - 0s 5ms/step - loss: 0.4222 - accuracy: 0.9220 - val_loss: 0.4995 - val_accuracy: 0.8167\n"
     ]
    }
   ],
   "source": [
    "hystory = model.fit(df_inp_train, \n",
    "                    df_out_train, \n",
    "                    epochs=20,\n",
    "                    batch_size=64,\n",
    "                    validation_data=(df_inp_test, df_out_test))"
   ]
  },
  {
   "cell_type": "code",
   "execution_count": 12,
   "metadata": {},
   "outputs": [
    {
     "name": "stdout",
     "output_type": "stream",
     "text": [
      "WARNING:tensorflow:From /home/victor/miniconda3/envs/ironhack_env/lib/python3.7/site-packages/tensorflow/python/ops/resource_variable_ops.py:1817: calling BaseResourceVariable.__init__ (from tensorflow.python.ops.resource_variable_ops) with constraint is deprecated and will be removed in a future version.\n",
      "Instructions for updating:\n",
      "If using Keras pass *_constraint arguments to layers.\n",
      "INFO:tensorflow:Assets written to: tic-tac-toe.model/assets\n"
     ]
    }
   ],
   "source": [
    "model.save('tic-tac-toe.model')"
   ]
  },
  {
   "cell_type": "markdown",
   "metadata": {},
   "source": [
    "## Step 3: Make Predictions\n",
    "\n",
    "Now load your saved model and use it to make predictions on a few random rows in the test dataset. Check if the predictions are correct."
   ]
  },
  {
   "cell_type": "code",
   "execution_count": 13,
   "metadata": {},
   "outputs": [],
   "source": [
    "# your code here\n",
    "new_model = tf.keras.models.load_model('tic-tac-toe.model')"
   ]
  },
  {
   "cell_type": "code",
   "execution_count": 14,
   "metadata": {},
   "outputs": [],
   "source": [
    "predictions = new_model.predict(df_inp_test)"
   ]
  },
  {
   "cell_type": "code",
   "execution_count": 15,
   "metadata": {},
   "outputs": [],
   "source": [
    "results_pred = [np.argmax(predictions[x]) for x in range(df_inp_test.shape[0])]"
   ]
  },
  {
   "cell_type": "code",
   "execution_count": 16,
   "metadata": {},
   "outputs": [
    {
     "name": "stdout",
     "output_type": "stream",
     "text": [
      "Right: 81.66666666666667%\n",
      "Wrong: 18.333333333333332%\n"
     ]
    }
   ],
   "source": [
    "validation = df_out_test == results_pred\n",
    "right = 0\n",
    "wrong = 0\n",
    "for test in validation:\n",
    "    if test == True:\n",
    "        right += 1\n",
    "    elif test == False:\n",
    "        wrong += 1\n",
    "        \n",
    "print(f'Right: {right/len(validation)*100}%')\n",
    "print(f'Wrong: {wrong/len(validation)*100}%')"
   ]
  },
  {
   "cell_type": "markdown",
   "metadata": {},
   "source": [
    "## Step 4: Improve Your Model\n",
    "\n",
    "Did your model achieve low loss (<0.1) and high accuracy (>0.95)? If not, try to improve your model.\n",
    "\n",
    "But how? There are so many things you can play with in Tensorflow and in the next challenge you'll learn about these things. But in this challenge, let's just do a few things to see if they will help.\n",
    "\n",
    "* Add more layers to your model. If the data are complex you need more layers. But don't use more layers than you need. If adding more layers does not improve the model performance you don't need additional layers.\n",
    "* Adjust the learning rate when you compile the model. This means you will create a custom `tf.keras.optimizers.Adam` instance where you specify the learning rate you want. Then pass the instance to `model.compile` as the optimizer.\n",
    "    * `tf.keras.optimizers.Adam` [reference](https://www.tensorflow.org/api_docs/python/tf/keras/optimizers/Adam).\n",
    "    * Don't worry if you don't understand what the learning rate does. You'll learn about it in the next challenge.\n",
    "* Adjust the number of epochs when you fit the training data to the model. Your model performance continues to improve as you train more epochs. But eventually it will reach the ceiling and the performance will stay the same."
   ]
  },
  {
   "cell_type": "code",
   "execution_count": 17,
   "metadata": {},
   "outputs": [],
   "source": [
    "model_opt = tf.keras.models.Sequential([\n",
    "    tf.keras.layers.Flatten(),\n",
    "    tf.keras.layers.Dense(128, activation='relu'),\n",
    "    tf.keras.layers.Dense(128, activation='relu'),\n",
    "    tf.keras.layers.Dense(2, activation='softmax')\n",
    "])"
   ]
  },
  {
   "cell_type": "code",
   "execution_count": 18,
   "metadata": {},
   "outputs": [],
   "source": [
    "opt = tf.keras.optimizers.Adam(learning_rate=0.01)\n",
    "\n",
    "model_opt.compile(optimizer=opt,\n",
    "              loss=tf.keras.losses.SparseCategoricalCrossentropy(from_logits=True),\n",
    "              metrics=['accuracy'])"
   ]
  },
  {
   "cell_type": "code",
   "execution_count": 19,
   "metadata": {},
   "outputs": [
    {
     "name": "stdout",
     "output_type": "stream",
     "text": [
      "Epoch 1/50\n",
      "WARNING:tensorflow:Layer flatten_1 is casting an input tensor from dtype float64 to the layer's dtype of float32, which is new behavior in TensorFlow 2.  The layer has dtype float32 because it's dtype defaults to floatx.\n",
      "\n",
      "If you intended to run this layer in float32, you can safely ignore this warning. If in doubt, this warning is likely only an issue if you are porting a TensorFlow 1.X model to TensorFlow 2.\n",
      "\n",
      "To change all layers to have dtype float64 by default, call `tf.keras.backend.set_floatx('float64')`. To change just this layer, pass dtype='float64' to the layer constructor. If you are the author of this layer, you can disable autocasting by passing autocast=False to the base Layer constructor.\n",
      "\n",
      "8/8 [==============================] - 0s 15ms/step - loss: 0.6026 - accuracy: 0.6769 - val_loss: 0.5877 - val_accuracy: 0.7167\n",
      "Epoch 2/50\n",
      "8/8 [==============================] - 0s 6ms/step - loss: 0.5476 - accuracy: 0.7535 - val_loss: 0.5565 - val_accuracy: 0.7583\n",
      "Epoch 3/50\n",
      "8/8 [==============================] - 0s 6ms/step - loss: 0.4973 - accuracy: 0.8162 - val_loss: 0.5285 - val_accuracy: 0.7625\n",
      "Epoch 4/50\n",
      "8/8 [==============================] - 0s 6ms/step - loss: 0.4761 - accuracy: 0.8384 - val_loss: 0.5122 - val_accuracy: 0.8083\n",
      "Epoch 5/50\n",
      "8/8 [==============================] - 0s 7ms/step - loss: 0.4647 - accuracy: 0.8482 - val_loss: 0.5144 - val_accuracy: 0.7875\n",
      "Epoch 6/50\n",
      "8/8 [==============================] - 0s 6ms/step - loss: 0.4373 - accuracy: 0.8719 - val_loss: 0.4911 - val_accuracy: 0.8208\n",
      "Epoch 7/50\n",
      "8/8 [==============================] - 0s 7ms/step - loss: 0.4316 - accuracy: 0.8774 - val_loss: 0.4835 - val_accuracy: 0.8250\n",
      "Epoch 8/50\n",
      "8/8 [==============================] - 0s 7ms/step - loss: 0.4172 - accuracy: 0.8928 - val_loss: 0.4715 - val_accuracy: 0.8500\n",
      "Epoch 9/50\n",
      "8/8 [==============================] - 0s 7ms/step - loss: 0.4045 - accuracy: 0.9123 - val_loss: 0.4765 - val_accuracy: 0.8292\n",
      "Epoch 10/50\n",
      "8/8 [==============================] - 0s 7ms/step - loss: 0.4011 - accuracy: 0.9192 - val_loss: 0.4550 - val_accuracy: 0.8542\n",
      "Epoch 11/50\n",
      "8/8 [==============================] - 0s 7ms/step - loss: 0.3955 - accuracy: 0.9192 - val_loss: 0.4551 - val_accuracy: 0.8542\n",
      "Epoch 12/50\n",
      "8/8 [==============================] - 0s 7ms/step - loss: 0.3886 - accuracy: 0.9248 - val_loss: 0.4419 - val_accuracy: 0.8792\n",
      "Epoch 13/50\n",
      "8/8 [==============================] - 0s 8ms/step - loss: 0.3673 - accuracy: 0.9526 - val_loss: 0.4249 - val_accuracy: 0.8917\n",
      "Epoch 14/50\n",
      "8/8 [==============================] - 0s 7ms/step - loss: 0.3635 - accuracy: 0.9582 - val_loss: 0.4370 - val_accuracy: 0.8667\n",
      "Epoch 15/50\n",
      "8/8 [==============================] - 0s 10ms/step - loss: 0.3655 - accuracy: 0.9513 - val_loss: 0.4436 - val_accuracy: 0.8792\n",
      "Epoch 16/50\n",
      "8/8 [==============================] - 0s 9ms/step - loss: 0.3668 - accuracy: 0.9499 - val_loss: 0.4106 - val_accuracy: 0.9042\n",
      "Epoch 17/50\n",
      "8/8 [==============================] - 0s 7ms/step - loss: 0.3442 - accuracy: 0.9721 - val_loss: 0.4157 - val_accuracy: 0.8875\n",
      "Epoch 18/50\n",
      "8/8 [==============================] - 0s 7ms/step - loss: 0.3352 - accuracy: 0.9805 - val_loss: 0.3938 - val_accuracy: 0.9125\n",
      "Epoch 19/50\n",
      "8/8 [==============================] - 0s 7ms/step - loss: 0.3413 - accuracy: 0.9694 - val_loss: 0.3991 - val_accuracy: 0.9125\n",
      "Epoch 20/50\n",
      "8/8 [==============================] - 0s 7ms/step - loss: 0.3464 - accuracy: 0.9694 - val_loss: 0.3928 - val_accuracy: 0.9208\n",
      "Epoch 21/50\n",
      "8/8 [==============================] - 0s 7ms/step - loss: 0.3431 - accuracy: 0.9749 - val_loss: 0.3854 - val_accuracy: 0.9333\n",
      "Epoch 22/50\n",
      "8/8 [==============================] - 0s 7ms/step - loss: 0.3311 - accuracy: 0.9847 - val_loss: 0.3700 - val_accuracy: 0.9333\n",
      "Epoch 23/50\n",
      "8/8 [==============================] - 0s 7ms/step - loss: 0.3255 - accuracy: 0.9903 - val_loss: 0.3742 - val_accuracy: 0.9458\n",
      "Epoch 24/50\n",
      "8/8 [==============================] - 0s 7ms/step - loss: 0.3240 - accuracy: 0.9903 - val_loss: 0.3668 - val_accuracy: 0.9500\n",
      "Epoch 25/50\n",
      "8/8 [==============================] - 0s 7ms/step - loss: 0.3213 - accuracy: 0.9930 - val_loss: 0.3634 - val_accuracy: 0.9500\n",
      "Epoch 26/50\n",
      "8/8 [==============================] - 0s 7ms/step - loss: 0.3214 - accuracy: 0.9930 - val_loss: 0.3636 - val_accuracy: 0.9500\n",
      "Epoch 27/50\n",
      "8/8 [==============================] - 0s 7ms/step - loss: 0.3195 - accuracy: 0.9958 - val_loss: 0.3612 - val_accuracy: 0.9500\n",
      "Epoch 28/50\n",
      "8/8 [==============================] - 0s 8ms/step - loss: 0.3183 - accuracy: 0.9958 - val_loss: 0.3442 - val_accuracy: 0.9750\n",
      "Epoch 29/50\n",
      "8/8 [==============================] - 0s 8ms/step - loss: 0.3171 - accuracy: 0.9972 - val_loss: 0.3514 - val_accuracy: 0.9625\n",
      "Epoch 30/50\n",
      "8/8 [==============================] - 0s 7ms/step - loss: 0.3168 - accuracy: 0.9972 - val_loss: 0.3504 - val_accuracy: 0.9625\n",
      "Epoch 31/50\n",
      "8/8 [==============================] - 0s 8ms/step - loss: 0.3164 - accuracy: 0.9972 - val_loss: 0.3444 - val_accuracy: 0.9708\n",
      "Epoch 32/50\n",
      "8/8 [==============================] - 0s 7ms/step - loss: 0.3151 - accuracy: 0.9986 - val_loss: 0.3435 - val_accuracy: 0.9708\n",
      "Epoch 33/50\n",
      "8/8 [==============================] - 0s 7ms/step - loss: 0.3150 - accuracy: 0.9986 - val_loss: 0.3408 - val_accuracy: 0.9750\n",
      "Epoch 34/50\n",
      "8/8 [==============================] - 0s 8ms/step - loss: 0.3149 - accuracy: 0.9986 - val_loss: 0.3400 - val_accuracy: 0.9708\n",
      "Epoch 35/50\n",
      "8/8 [==============================] - 0s 9ms/step - loss: 0.3149 - accuracy: 0.9986 - val_loss: 0.3396 - val_accuracy: 0.9750\n",
      "Epoch 36/50\n",
      "8/8 [==============================] - 0s 7ms/step - loss: 0.3149 - accuracy: 0.9986 - val_loss: 0.3386 - val_accuracy: 0.9750\n",
      "Epoch 37/50\n",
      "8/8 [==============================] - 0s 6ms/step - loss: 0.3149 - accuracy: 0.9986 - val_loss: 0.3384 - val_accuracy: 0.9792\n",
      "Epoch 38/50\n",
      "8/8 [==============================] - 0s 8ms/step - loss: 0.3148 - accuracy: 0.9986 - val_loss: 0.3385 - val_accuracy: 0.9792\n",
      "Epoch 39/50\n",
      "8/8 [==============================] - 0s 6ms/step - loss: 0.3148 - accuracy: 0.9986 - val_loss: 0.3382 - val_accuracy: 0.9792\n",
      "Epoch 40/50\n",
      "8/8 [==============================] - 0s 6ms/step - loss: 0.3148 - accuracy: 0.9986 - val_loss: 0.3388 - val_accuracy: 0.9792\n",
      "Epoch 41/50\n",
      "8/8 [==============================] - 0s 6ms/step - loss: 0.3148 - accuracy: 0.9986 - val_loss: 0.3394 - val_accuracy: 0.9750\n",
      "Epoch 42/50\n",
      "8/8 [==============================] - 0s 7ms/step - loss: 0.3148 - accuracy: 0.9986 - val_loss: 0.3395 - val_accuracy: 0.9750\n",
      "Epoch 43/50\n",
      "8/8 [==============================] - 0s 7ms/step - loss: 0.3148 - accuracy: 0.9986 - val_loss: 0.3396 - val_accuracy: 0.9750\n",
      "Epoch 44/50\n",
      "8/8 [==============================] - 0s 7ms/step - loss: 0.3148 - accuracy: 0.9986 - val_loss: 0.3389 - val_accuracy: 0.9792\n",
      "Epoch 45/50\n",
      "8/8 [==============================] - 0s 7ms/step - loss: 0.3148 - accuracy: 0.9986 - val_loss: 0.3385 - val_accuracy: 0.9792\n",
      "Epoch 46/50\n",
      "8/8 [==============================] - 0s 7ms/step - loss: 0.3148 - accuracy: 0.9986 - val_loss: 0.3381 - val_accuracy: 0.9792\n",
      "Epoch 47/50\n",
      "8/8 [==============================] - 0s 7ms/step - loss: 0.3148 - accuracy: 0.9986 - val_loss: 0.3378 - val_accuracy: 0.9792\n",
      "Epoch 48/50\n",
      "8/8 [==============================] - 0s 8ms/step - loss: 0.3148 - accuracy: 0.9986 - val_loss: 0.3380 - val_accuracy: 0.9792\n",
      "Epoch 49/50\n",
      "8/8 [==============================] - 0s 8ms/step - loss: 0.3148 - accuracy: 0.9986 - val_loss: 0.3381 - val_accuracy: 0.9792\n",
      "Epoch 50/50\n",
      "8/8 [==============================] - 0s 7ms/step - loss: 0.3148 - accuracy: 0.9986 - val_loss: 0.3376 - val_accuracy: 0.9792\n"
     ]
    }
   ],
   "source": [
    "history = model_opt.fit(df_inp_train, \n",
    "                    df_out_train, \n",
    "                    epochs=50,\n",
    "                    batch_size=100,\n",
    "                    validation_data=(df_inp_test, df_out_test))"
   ]
  },
  {
   "cell_type": "code",
   "execution_count": 20,
   "metadata": {},
   "outputs": [],
   "source": [
    "def plot_training(history, metrics: list = ('loss',), figsize: tuple = (12, 5)):\n",
    "    \"\"\"\n",
    "    plots training selected metrics for every batch\n",
    "    \"\"\"\n",
    "    epochs = range(1, len(history.history[metrics[0]]) + 1)\n",
    "\n",
    "    fig, ax_arr = plt.subplots(1, len(metrics), figsize=figsize)\n",
    "\n",
    "    if not isinstance(ax_arr, np.ndarray):\n",
    "        ax_arr = np.array(ax_arr).reshape(1, )\n",
    "\n",
    "    for i, metric in enumerate(metrics):\n",
    "        ax_arr[i].plot(epochs, history.history[metric], color='k', linestyle='solid', label=metric, linewidth=2)\n",
    "        ax_arr[i].plot(epochs, history.history[f\"val_{metric}\"], color='r', linestyle='dotted',\n",
    "                       label=f'validation {metric}')\n",
    "        ax_arr[i].set_ylabel(metric)\n",
    "        ax_arr[i].set_xlabel('epochs')\n",
    "        ax_arr[i].grid()\n",
    "        ax_arr[i].legend()\n",
    "    plt.show()\n",
    "\n"
   ]
  },
  {
   "cell_type": "code",
   "execution_count": 21,
   "metadata": {},
   "outputs": [
    {
     "data": {
      "image/png": "[encoded data removed]",
      "text/plain": [
       "<Figure size 864x360 with 2 Axes>"
      ]
     },
     "metadata": {
      "needs_background": "light"
     },
     "output_type": "display_data"
    }
   ],
   "source": [
    "plot_training(history, metrics=['loss', 'accuracy'])"
   ]
  },
  {
   "cell_type": "markdown",
   "metadata": {},
   "source": [
    "**Which approach(es) did you find helpful to improve your model performance?**"
   ]
  },
  {
   "cell_type": "code",
   "execution_count": 22,
   "metadata": {},
   "outputs": [],
   "source": [
    "# your answer here\n",
    "\n",
    "# Find optimal epoch value, batch size and learning rate"
   ]
  }
 ],
 "metadata": {
  "kernelspec": {
   "display_name": "Python [conda env:ironhack_env]",
   "language": "python",
   "name": "conda-env-ironhack_env-py"
  },
  "language_info": {
   "codemirror_mode": {
    "name": "ipython",
    "version": 3
   },
   "file_extension": ".py",
   "mimetype": "text/x-python",
   "name": "python",
   "nbconvert_exporter": "python",
   "pygments_lexer": "ipython3",
   "version": "3.7.3"
  }
 },
 "nbformat": 4,
 "nbformat_minor": 4
}
