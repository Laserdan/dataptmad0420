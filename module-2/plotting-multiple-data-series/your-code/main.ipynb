{
 "cells": [
  {
   "cell_type": "markdown",
   "metadata": {},
   "source": [
    "# Plotting Multiple Data Series\n",
    "\n",
    "Complete the following set of exercises to solidify your knowledge of plotting multiple data series with pandas, matplotlib, and seaborn. Part of the challenge that comes with plotting multiple data series is transforming the data into the form needed to visualize it like you want. For some of the exercises in this lab, you will need to transform the data into the form most appropriate for generating the visualization and then create the plot."
   ]
  },
  {
   "cell_type": "code",
   "execution_count": 2,
   "metadata": {},
   "outputs": [],
   "source": [
    "import pandas as pd\n",
    "import matplotlib.pyplot as plt\n",
    "import seaborn as sns\n",
    "import warnings\n",
    "\n",
    "warnings.filterwarnings('ignore')\n",
    "%matplotlib inline"
   ]
  },
  {
   "cell_type": "code",
   "execution_count": 3,
   "metadata": {},
   "outputs": [
    {
     "data": {
      "text/html": [
       "<div>\n",
       "<style scoped>\n",
       "    .dataframe tbody tr th:only-of-type {\n",
       "        vertical-align: middle;\n",
       "    }\n",
       "\n",
       "    .dataframe tbody tr th {\n",
       "        vertical-align: top;\n",
       "    }\n",
       "\n",
       "    .dataframe thead th {\n",
       "        text-align: right;\n",
       "    }\n",
       "</style>\n",
       "<table border=\"1\" class=\"dataframe\">\n",
       "  <thead>\n",
       "    <tr style=\"text-align: right;\">\n",
       "      <th></th>\n",
       "      <th>Year</th>\n",
       "      <th>Month</th>\n",
       "      <th>Supplier</th>\n",
       "      <th>ItemCode</th>\n",
       "      <th>Description</th>\n",
       "      <th>ItemType</th>\n",
       "      <th>RetailSales</th>\n",
       "      <th>RetailTransfers</th>\n",
       "      <th>WarehouseSales</th>\n",
       "    </tr>\n",
       "  </thead>\n",
       "  <tbody>\n",
       "    <tr>\n",
       "      <th>0</th>\n",
       "      <td>2017</td>\n",
       "      <td>4</td>\n",
       "      <td>ROYAL WINE CORP</td>\n",
       "      <td>100200</td>\n",
       "      <td>GAMLA CAB - 750ML</td>\n",
       "      <td>WINE</td>\n",
       "      <td>0.0</td>\n",
       "      <td>1.0</td>\n",
       "      <td>0.0</td>\n",
       "    </tr>\n",
       "    <tr>\n",
       "      <th>1</th>\n",
       "      <td>2017</td>\n",
       "      <td>4</td>\n",
       "      <td>SANTA MARGHERITA USA INC</td>\n",
       "      <td>100749</td>\n",
       "      <td>SANTA MARGHERITA P/GRIG ALTO - 375ML</td>\n",
       "      <td>WINE</td>\n",
       "      <td>0.0</td>\n",
       "      <td>1.0</td>\n",
       "      <td>0.0</td>\n",
       "    </tr>\n",
       "    <tr>\n",
       "      <th>2</th>\n",
       "      <td>2017</td>\n",
       "      <td>4</td>\n",
       "      <td>JIM BEAM BRANDS CO</td>\n",
       "      <td>10103</td>\n",
       "      <td>KNOB CREEK BOURBON 9YR - 100P - 375ML</td>\n",
       "      <td>LIQUOR</td>\n",
       "      <td>0.0</td>\n",
       "      <td>8.0</td>\n",
       "      <td>0.0</td>\n",
       "    </tr>\n",
       "    <tr>\n",
       "      <th>3</th>\n",
       "      <td>2017</td>\n",
       "      <td>4</td>\n",
       "      <td>HEAVEN HILL DISTILLERIES INC</td>\n",
       "      <td>10120</td>\n",
       "      <td>J W DANT BOURBON 100P - 1.75L</td>\n",
       "      <td>LIQUOR</td>\n",
       "      <td>0.0</td>\n",
       "      <td>2.0</td>\n",
       "      <td>0.0</td>\n",
       "    </tr>\n",
       "    <tr>\n",
       "      <th>4</th>\n",
       "      <td>2017</td>\n",
       "      <td>4</td>\n",
       "      <td>ROYAL WINE CORP</td>\n",
       "      <td>101664</td>\n",
       "      <td>RAMON CORDOVA RIOJA - 750ML</td>\n",
       "      <td>WINE</td>\n",
       "      <td>0.0</td>\n",
       "      <td>4.0</td>\n",
       "      <td>0.0</td>\n",
       "    </tr>\n",
       "  </tbody>\n",
       "</table>\n",
       "</div>"
      ],
      "text/plain": [
       "   Year  Month                      Supplier ItemCode  \\\n",
       "0  2017      4               ROYAL WINE CORP   100200   \n",
       "1  2017      4      SANTA MARGHERITA USA INC   100749   \n",
       "2  2017      4            JIM BEAM BRANDS CO    10103   \n",
       "3  2017      4  HEAVEN HILL DISTILLERIES INC    10120   \n",
       "4  2017      4               ROYAL WINE CORP   101664   \n",
       "\n",
       "                             Description ItemType  RetailSales  \\\n",
       "0                      GAMLA CAB - 750ML     WINE          0.0   \n",
       "1   SANTA MARGHERITA P/GRIG ALTO - 375ML     WINE          0.0   \n",
       "2  KNOB CREEK BOURBON 9YR - 100P - 375ML   LIQUOR          0.0   \n",
       "3          J W DANT BOURBON 100P - 1.75L   LIQUOR          0.0   \n",
       "4            RAMON CORDOVA RIOJA - 750ML     WINE          0.0   \n",
       "\n",
       "   RetailTransfers  WarehouseSales  \n",
       "0              1.0             0.0  \n",
       "1              1.0             0.0  \n",
       "2              8.0             0.0  \n",
       "3              2.0             0.0  \n",
       "4              4.0             0.0  "
      ]
     },
     "execution_count": 3,
     "metadata": {},
     "output_type": "execute_result"
    }
   ],
   "source": [
    "data = pd.read_csv('../data/liquor_store_sales.csv')\n",
    "data.head()"
   ]
  },
  {
   "cell_type": "markdown",
   "metadata": {},
   "source": [
    "## 1. Create a bar chart with bars for total Retail Sales, Retail Transfers, and Warehouse Sales by Item Type."
   ]
  },
  {
   "cell_type": "code",
   "execution_count": 42,
   "metadata": {},
   "outputs": [
    {
     "data": {
      "text/plain": [
       "<matplotlib.axes._subplots.AxesSubplot at 0x7f09ea15f978>"
      ]
     },
     "execution_count": 42,
     "metadata": {},
     "output_type": "execute_result"
    },
    {
     "data": {
      "image/png": "[encoded data removed]",
      "text/plain": [
       "<Figure size 1440x720 with 1 Axes>"
      ]
     },
     "metadata": {
      "needs_background": "light"
     },
     "output_type": "display_data"
    }
   ],
   "source": [
    "hue = data.groupby('ItemType', as_index=True)['RetailSales', 'RetailTransfers', 'WarehouseSales'].mean()\n",
    "hue.plot(kind='bar', figsize=(20, 10))"
   ]
  },
  {
   "cell_type": "markdown",
   "metadata": {},
   "source": [
    "## 2. Create a horizontal bar chart showing sales mix for the top 10 suppliers with the most total sales. "
   ]
  },
  {
   "cell_type": "code",
   "execution_count": 60,
   "metadata": {},
   "outputs": [
    {
     "data": {
      "text/plain": [
       "<matplotlib.axes._subplots.AxesSubplot at 0x7f09ee45ca90>"
      ]
     },
     "execution_count": 60,
     "metadata": {},
     "output_type": "execute_result"
    },
    {
     "data": {
      "image/png": "[encoded data removed]",
      "text/plain": [
       "<Figure size 1440x720 with 1 Axes>"
      ]
     },
     "metadata": {
      "needs_background": "light"
     },
     "output_type": "display_data"
    }
   ],
   "source": [
    "data.head()\n",
    "hue = data.groupby('Supplier')['RetailSales', 'RetailTransfers', 'WarehouseSales'].sum()\n",
    "hue['TotalSales'] = hue['RetailSales'] + hue['RetailTransfers'] + hue['WarehouseSales']\n",
    "hue = hue.sort_values(by='TotalSales', ascending=False).head(10)\n",
    "hue.plot(kind='barh', figsize=(20, 10))"
   ]
  },
  {
   "cell_type": "markdown",
   "metadata": {},
   "source": [
    "## 3. Create a multi-line chart that shows average Retail Sales, Retail Transfers, and Warehouse Sales per month over time."
   ]
  },
  {
   "cell_type": "code",
   "execution_count": null,
   "metadata": {},
   "outputs": [],
   "source": []
  },
  {
   "cell_type": "markdown",
   "metadata": {},
   "source": [
    "## 4. Plot the same information as above but as a bar chart."
   ]
  },
  {
   "cell_type": "code",
   "execution_count": null,
   "metadata": {},
   "outputs": [],
   "source": []
  },
  {
   "cell_type": "markdown",
   "metadata": {},
   "source": [
    "## 5. Create a multi-line chart that shows Retail Sales summed by Item Type over time (Year & Month).\n",
    "\n",
    "*Hint: There should be a line representing each Item Type.*"
   ]
  },
  {
   "cell_type": "code",
   "execution_count": null,
   "metadata": {},
   "outputs": [],
   "source": []
  },
  {
   "cell_type": "markdown",
   "metadata": {},
   "source": [
    "## 6. Plot the same information as above but as a bar chart."
   ]
  },
  {
   "cell_type": "code",
   "execution_count": null,
   "metadata": {},
   "outputs": [],
   "source": []
  },
  {
   "cell_type": "markdown",
   "metadata": {},
   "source": [
    "## 7. Create a scatter plot showing the relationship between Retail Sales (x-axis) and Retail Transfers (y-axis) with the plot points color-coded according to their Item Type.\n",
    "\n",
    "*Hint: Seaborn's lmplot is the easiest way to generate the scatter plot.*"
   ]
  },
  {
   "cell_type": "code",
   "execution_count": null,
   "metadata": {},
   "outputs": [],
   "source": []
  },
  {
   "cell_type": "markdown",
   "metadata": {},
   "source": [
    "## 8. Create a scatter matrix using all the numeric fields in the data set with the plot points color-coded by Item Type.\n",
    "\n",
    "*Hint: Seaborn's pairplot may be your best option here.*"
   ]
  },
  {
   "cell_type": "code",
   "execution_count": null,
   "metadata": {},
   "outputs": [],
   "source": []
  }
 ],
 "metadata": {
  "kernelspec": {
   "display_name": "Python [conda env:ironhack_env]",
   "language": "python",
   "name": "conda-env-ironhack_env-py"
  },
  "language_info": {
   "codemirror_mode": {
    "name": "ipython",
    "version": 3
   },
   "file_extension": ".py",
   "mimetype": "text/x-python",
   "name": "python",
   "nbconvert_exporter": "python",
   "pygments_lexer": "ipython3",
   "version": "3.7.3"
  }
 },
 "nbformat": 4,
 "nbformat_minor": 4
}
