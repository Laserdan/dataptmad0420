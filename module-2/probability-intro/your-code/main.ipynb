{
 "cells": [
  {
   "cell_type": "markdown",
   "metadata": {},
   "source": [
    "# Introduction To Probability\n",
    "## Challenge 1\n",
    "\n",
    "A and B are events of a probability space with $(\\omega, \\sigma, P)$ such that $P(A) = 0.3$, $P(B) = 0.6$ and $P(A \\cap B) = 0.1$\n",
    "\n",
    "Which of the following statements are false?\n",
    "* $P(A \\cup B) = 0.6$\n",
    "* $P(A \\cap B^{C}) = 0.2$\n",
    "* $P(A \\cap (B \\cup B^{C})) = 0.4$\n",
    "* $P(A^{C} \\cap B^{C}) = 0.3$\n",
    "* $P((A \\cap B)^{C}) = 0.9$"
   ]
  },
  {
   "cell_type": "markdown",
   "metadata": {},
   "source": [
    "We know $P(A\\cap B)=P(B\\cap A)= 0.1$"
   ]
  },
  {
   "cell_type": "markdown",
   "metadata": {},
   "source": [
    "#### 1. $P(A \\cup B) = 0.6$ ¿?\n",
    "$P(A \\cup B) = P(A) + P(B) - P(A\\cap B) = 0.3 + 0.6 - 0.1 = 0.8$\n",
    "\n",
    "FALSE\n",
    "\n",
    "-----\n",
    "\n",
    "#### 2. $P(A \\cap B^{C}) = 0.2$ ¿?\n",
    "$P(A \\cap B^{C}) = P(A)\\cdot P(B^{C}|A)=P(A)\\cdot (1-P(B|A))$\n",
    "\n",
    "$P(A\\cap B)=P(A)\\cdot P(B|A)\\rightarrow P(B|A)=\\frac{P(A\\cap B)}{P(A)}$\n",
    "\n",
    "$P(A \\cap B^{C}) =P(A)\\cdot (1-\\frac{P(A\\cap B)}{P(A)})= 0.3\\cdot (1-\\frac{0.1}{0.3})=0.3-0.1=0.2$\n",
    "\n",
    "TRUE\n",
    "\n",
    "-----\n",
    "\n",
    "#### 3. $P(A \\cap (B \\cup B^{C})) = 0.4$ ¿?\n",
    "$B \\cup B^{C}=\\Omega $\n",
    "\n",
    "$P(A \\cap \\Omega) = P(A)=0.3$\n",
    "\n",
    "\n",
    "FALSE\n",
    "\n",
    "-----\n",
    "\n",
    "#### 4. $P(A^{C} \\cap B^{C}) = 0.3$ ¿?\n",
    "\n",
    "$P(A^{C} \\cap B^{C}) = P(\\overline{A\\cup B})= 1-P(A\\cup B)=1-0.8=0.2$\n",
    "\n",
    "FALSE\n",
    "\n",
    "-----\n",
    "\n",
    "#### 5. $P((A \\cap B)^{C}) = 0.9$ ¿?\n",
    "\n",
    "$P((A \\cap B)^{C}) = 1-P(A\\cap B)=1-0.1=0.9$\n",
    "\n",
    "TRUE"
   ]
  },
  {
   "cell_type": "markdown",
   "metadata": {},
   "source": [
    "## Challenge 2\n",
    "There is a box with 10 white balls, 12 red balls and 8 black balls. Calculate the probability of:\n",
    "* Taking a white ball out.\n",
    "* Taking a white ball out after taking a black ball out.\n",
    "* Taking a red ball out after taking a black and a red ball out.\n",
    "* Taking a red ball out after taking a black and a red ball out with reposition.\n",
    "\n",
    "**Hint**: Reposition means putting back the ball into the box after taking it out."
   ]
  },
  {
   "cell_type": "markdown",
   "metadata": {},
   "source": [
    "$len(\\Omega )=30$\n",
    "\n",
    "#### 1. Taking a white ball out $\\rightarrow P(A)$.\n",
    "\n",
    "$P(A)=\\frac{10}{30}=\\frac{1}{3}$\n",
    "\n",
    "-----\n",
    "\n",
    "#### 2. Taking a white ball out after taking a black ball out $\\rightarrow P(B)$.\n",
    "\n",
    "$P(B)=\\frac{8}{30}\\cdot \\frac{10}{29} = \\frac{8}{87}$\n",
    "\n",
    "-----\n",
    "\n",
    "#### 3. Taking a red ball out after taking a black and a red ball out $\\rightarrow P(C)$.\n",
    "\n",
    "$P(C)=\\frac{8}{30}\\cdot \\frac{12}{29}\\cdot \\frac{11}{28} = \\frac{44}{1015}$\n",
    "\n",
    "-----\n",
    "\n",
    "#### 4. Taking a red ball out after taking a black and a red ball out with reposition $\\rightarrow P(D)$.\n",
    "\n",
    "$P(D)=\\frac{12}{30}=\\frac{2}{5}$"
   ]
  },
  {
   "cell_type": "markdown",
   "metadata": {},
   "source": [
    "## Challenge 3\n",
    "\n",
    "You are planning to go on a picnic today but the morning is cloudy. You hate rain so you don't know whether to go out or stay home! To help you make a decision, you gather the following data about rainy days:\n",
    "\n",
    "* 50% of all rainy days start off cloudy!\n",
    "* Cloudy mornings are common. About 40% of days start cloudy. \n",
    "* This month is usually dry so only 3 of 30 days (10%) tend to be rainy. \n",
    "\n",
    "What is the chance of rain during the day?"
   ]
  },
  {
   "cell_type": "markdown",
   "metadata": {},
   "source": [
    "$rain=A$\n",
    "\n",
    "$cloudy=B$\n",
    "\n",
    "$P(A)=0.1$\n",
    "\n",
    "$P(B)=0.4$\n",
    "\n",
    "$P(B|A)=0.5$\n",
    "\n",
    "$P(A|B)=\\frac{P(A)\\cdot P(B|A)}{P(B)}=\\frac{0.1\\cdot 0.5}{0.4}=\\frac{1}{8}$"
   ]
  },
  {
   "cell_type": "markdown",
   "metadata": {},
   "source": [
    "## Challenge 4\n",
    "\n",
    "One thousand people were asked through a telephone survey whether they thought more street lighting is needed at night or not.\n",
    "\n",
    "Out of the 480 men that answered the survey, 324 said yes and 156 said no. On the other hand, out of the 520 women that answered, 351 said yes and 169 said no. \n",
    "\n",
    "We wonder if men and women have a different opinions about the street lighting matter. Is gender relevant or irrelevant to the question?\n",
    "\n",
    "Consider the following events:\n",
    "- The answer is yes, so the person that answered thinks that more street lighting is needed.\n",
    "- The person who answered is a man.\n",
    "\n",
    "We want to know if these events are independent, that is, if the fact of wanting more light depends on whether one is male or female. Are these events independent or not?\n",
    "\n",
    "**Hint**: To clearly compare the answers by gender, it is best to place the data in a table."
   ]
  },
  {
   "cell_type": "code",
   "execution_count": 16,
   "metadata": {},
   "outputs": [
    {
     "data": {
      "text/html": [
       "<div>\n",
       "<style scoped>\n",
       "    .dataframe tbody tr th:only-of-type {\n",
       "        vertical-align: middle;\n",
       "    }\n",
       "\n",
       "    .dataframe tbody tr th {\n",
       "        vertical-align: top;\n",
       "    }\n",
       "\n",
       "    .dataframe thead th {\n",
       "        text-align: right;\n",
       "    }\n",
       "</style>\n",
       "<table border=\"1\" class=\"dataframe\">\n",
       "  <thead>\n",
       "    <tr style=\"text-align: right;\">\n",
       "      <th></th>\n",
       "      <th>Yes</th>\n",
       "      <th>No</th>\n",
       "      <th>%yes</th>\n",
       "      <th>%no</th>\n",
       "    </tr>\n",
       "  </thead>\n",
       "  <tbody>\n",
       "    <tr>\n",
       "      <th>Male</th>\n",
       "      <td>324</td>\n",
       "      <td>156</td>\n",
       "      <td>67.5</td>\n",
       "      <td>32.5</td>\n",
       "    </tr>\n",
       "    <tr>\n",
       "      <th>Female</th>\n",
       "      <td>351</td>\n",
       "      <td>169</td>\n",
       "      <td>67.5</td>\n",
       "      <td>32.5</td>\n",
       "    </tr>\n",
       "  </tbody>\n",
       "</table>\n",
       "</div>"
      ],
      "text/plain": [
       "        Yes   No  %yes   %no\n",
       "Male    324  156  67.5  32.5\n",
       "Female  351  169  67.5  32.5"
      ]
     },
     "execution_count": 16,
     "metadata": {},
     "output_type": "execute_result"
    }
   ],
   "source": [
    "# your code here\n",
    "import pandas as pd\n",
    "data = pd.DataFrame([[324, 156, 324/480*100, 156/480*100], [351, 169, 351/520*100, 169/520*100]], columns=['Yes', 'No', '%yes', '%no'], index=['Male', 'Female'])\n",
    "data"
   ]
  },
  {
   "cell_type": "markdown",
   "metadata": {},
   "source": [
    "#### 1. If dependent\n",
    "\n",
    "$P(yes)=\\frac{324+351}{1000}=\\frac{675}{1000}=\\frac{27}{40}$\n",
    "\n",
    "$P(yes\\cap man) = P(yes)\\cdot P(man|yes)=\\frac{27}{40}\\cdot \\frac{324}{675}=\\frac{27}{40}\\cdot \\frac{12}{25}=\\frac{81}{250}\\rightarrow 32.4$%\n",
    "\n",
    "---\n",
    "\n",
    "#### 2. If independent\n",
    "\n",
    "$P(yes\\cap man) = P(yes)\\cdot P(man)=\\frac{675}{1000}\\cdot \\frac{480}{1000}=\\frac{81}{250}\\rightarrow 32.4$%\n",
    "\n",
    "\n",
    "The events are INDEPENDENT"
   ]
  }
 ],
 "metadata": {
  "kernelspec": {
   "display_name": "Python 3",
   "language": "python",
   "name": "python3"
  },
  "language_info": {
   "codemirror_mode": {
    "name": "ipython",
    "version": 3
   },
   "file_extension": ".py",
   "mimetype": "text/x-python",
   "name": "python",
   "nbconvert_exporter": "python",
   "pygments_lexer": "ipython3",
   "version": "3.7.7"
  }
 },
 "nbformat": 4,
 "nbformat_minor": 4
}
